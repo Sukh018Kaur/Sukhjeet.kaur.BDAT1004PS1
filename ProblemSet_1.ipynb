{
 "cells": [
  {
   "cell_type": "code",
   "execution_count": 2,
   "id": "3e154266",
   "metadata": {},
   "outputs": [
    {
     "name": "stdout",
     "output_type": "stream",
     "text": [
      "<class 'int'>\n"
     ]
    }
   ],
   "source": [
    "#Problem Set 1\n",
    "#\n",
    "#Question 1\n",
    "#What data type is each of the following (evaluate where necessary)?\n",
    "# 5, 5.0, 5>1, '5', 5*2, '5'*2, '5'+'2', 5/2, 5%2, {5,2,1}, 5==3, pi(the number)\n",
    "a=5\n",
    "print(type(a))"
   ]
  },
  {
   "cell_type": "code",
   "execution_count": 55,
   "id": "03423960",
   "metadata": {},
   "outputs": [
    {
     "name": "stdout",
     "output_type": "stream",
     "text": [
      "<class 'int'>\n",
      "<class 'float'>\n",
      "<class 'bool'>\n",
      "<class 'str'>\n",
      "<class 'int'>\n",
      "<class 'str'>\n",
      "<class 'str'>\n",
      "<class 'float'>\n",
      "<class 'int'>\n",
      "<class 'set'>\n",
      "<class 'bool'>\n",
      "<class 'str'>\n"
     ]
    }
   ],
   "source": [
    "a=[5, 5.0, 5>1, '5', 5*2, '5'*2, '5'+'2']\n",
    "b=[5/2, 5%2, {5,2,1}, 5==3, 'pi(the number)']\n",
    "for i in a:\n",
    "    print(type(i))\n",
    "for j in b:\n",
    "    print(type(j))"
   ]
  },
  {
   "cell_type": "code",
   "execution_count": null,
   "id": "84af0933",
   "metadata": {},
   "outputs": [],
   "source": [
    "#Question 2\n",
    "#Write (and evaluate) python expressions that answer these questions:\n",
    "#a. How many letters are there in 'Supercalifragilisticexpialidocious'?\n",
    "#b. Does 'Supercalifragilisticexpialidocious' contain 'ice' as a substring?\n",
    "#c. Which of the following words is the longest:\n",
    "#Supercalifragilisticexpialidocious, Honorificabilitudinitatibus, or\n",
    "#Bababadalgharaghtakamminarronnkonn?\n",
    "#d. Which composer comes first in the dictionary: 'Berlioz', 'Borodin', 'Brian',\n",
    "#'Bartok', 'Bellini', 'Buxtehude', 'Bernstein'. Which one comes last?"
   ]
  },
  {
   "cell_type": "code",
   "execution_count": null,
   "id": "5d4e2707",
   "metadata": {},
   "outputs": [],
   "source": []
  },
  {
   "cell_type": "code",
   "execution_count": 10,
   "id": "605e6eef",
   "metadata": {},
   "outputs": [
    {
     "name": "stdout",
     "output_type": "stream",
     "text": [
      "there are 34 letters in the word\n"
     ]
    }
   ],
   "source": [
    "# a\n",
    "word='Supercalifragilisticexpialidocious'\n",
    "num=len(word)\n",
    "print(\"there are\",num,\"letters in the word\")"
   ]
  },
  {
   "cell_type": "code",
   "execution_count": 11,
   "id": "bf8331db",
   "metadata": {},
   "outputs": [
    {
     "name": "stdout",
     "output_type": "stream",
     "text": [
      "ice is a substring of 'Supercalifragilisticexpialidocious'\n"
     ]
    }
   ],
   "source": [
    "#b\n",
    "word='Supercalifragilisticexpialidocious'\n",
    "substring='ice'\n",
    "if substring in word:\n",
    "    print(\"ice is a substring of 'Supercalifragilisticexpialidocious'\")\n",
    "else:\n",
    "    print(\"ice is not a substring of 'Supercalifragilisticexpialidocious'\")"
   ]
  },
  {
   "cell_type": "code",
   "execution_count": 13,
   "id": "302abab0",
   "metadata": {},
   "outputs": [
    {
     "name": "stdout",
     "output_type": "stream",
     "text": [
      "the longest word is Supercalifragilisticexpialidocious\n"
     ]
    }
   ],
   "source": [
    "#c\n",
    "words=['Supercalifragilisticexpialidocious', 'Honorificabilitudinitatibus','Bababadalgharaghtakamminarronnkonn']\n",
    "longest_word= max(words,key=len)\n",
    "print(\"the longest word is\", longest_word)"
   ]
  },
  {
   "cell_type": "code",
   "execution_count": 14,
   "id": "d2aa56a5",
   "metadata": {},
   "outputs": [
    {
     "name": "stdout",
     "output_type": "stream",
     "text": [
      "the first composer in the dictionary= Bartok\n",
      "the last composer in the dictionary= Buxtehude\n"
     ]
    }
   ],
   "source": [
    "#d\n",
    "dictionary = ['Berlioz', 'Borodin', 'Brian', 'Bartok', 'Bellini', 'Buxtehude', 'Bernstein']\n",
    "dictionary.sort()\n",
    "first_dictionary= dictionary[0]\n",
    "last_dictionary=dictionary[-1]\n",
    "print(\"the first composer in the dictionary=\",first_dictionary)\n",
    "print(\"the last composer in the dictionary=\",last_dictionary)"
   ]
  },
  {
   "cell_type": "code",
   "execution_count": 16,
   "id": "ae1cfbf9",
   "metadata": {},
   "outputs": [],
   "source": [
    "#Question 3\n",
    "#Implement function triangleArea(a,b,c) that takes as input the lengths of the 3\n",
    "#sides of a triangle and returns the area of the triangle. By Heron's formula, the areaof a triangle with side lengths a, b, and c is\n",
    "# √(s(s-a)(s-b)(s-c)), where s = (a+b+c)/2. \n",
    "#>>> triangleArea(2,2,2)\n",
    "#1.7320508075688772\n",
    "import math\n",
    "def trianglearea(a,b,c):\n",
    "    s=(a+b+c)/2\n",
    "    area=math.sqrt(s*(s-a)*(s-b)*(s-c))\n",
    "    return area\n"
   ]
  },
  {
   "cell_type": "code",
   "execution_count": 18,
   "id": "6cd77b49",
   "metadata": {},
   "outputs": [
    {
     "name": "stdout",
     "output_type": "stream",
     "text": [
      "1.7320508075688772\n"
     ]
    }
   ],
   "source": [
    "answer= trianglearea(2,2,2)\n",
    "print(answer)"
   ]
  },
  {
   "cell_type": "code",
   "execution_count": 19,
   "id": "677345ef",
   "metadata": {},
   "outputs": [
    {
     "name": "stdout",
     "output_type": "stream",
     "text": [
      "Input the number of elements to be stored in the array: 5\n",
      "element - 0 : 25\n",
      "element - 1 : 47\n",
      "element - 2 : 42\n",
      "element - 3 : 56\n",
      "element - 4 : 32\n",
      "The Even elements are:\n",
      "42 56 32\n",
      "The Odd elements are:\n",
      "25 47\n"
     ]
    }
   ],
   "source": [
    "#Write a program in python to separate odd and even integers in separate arrays. Go\n",
    "#to the editor\n",
    "#Test Data :\n",
    "#Input the number of elements to be stored in the array :5\n",
    "#Input 5 elements in the array :\n",
    "#element - 0 : 25 , element - 1 : 47, element - 2 : 42, element - 3 : 56, element - 4 : 32\n",
    "#Expected Output:\n",
    "#The Even elements are: 42 56 32, The Odd elements are :25 47\n",
    "\n",
    "num_elements = int(input(\"Input the number of elements to be stored in the array: \"))\n",
    "even_numbers = []\n",
    "odd_numbers = []\n",
    "for i in range(num_elements):        # for loop\n",
    "    element = int(input(f\"element - {i} : \"))\n",
    "    if element % 2 == 0:\n",
    "        even_numbers.append(element)\n",
    "    else:\n",
    "        odd_numbers.append(element)\n",
    "# Display the even and odd numbers\n",
    "print(\"The Even elements are:\")\n",
    "print(\" \".join(map(str, even_numbers)))  \n",
    "print(\"The Odd elements are:\")\n",
    "print(\" \".join(map(str, odd_numbers)))   "
   ]
  },
  {
   "cell_type": "code",
   "execution_count": 20,
   "id": "e599e112",
   "metadata": {},
   "outputs": [
    {
     "name": "stdout",
     "output_type": "stream",
     "text": [
      "True\n",
      "False\n"
     ]
    }
   ],
   "source": [
    "#Question 5 \n",
    "#a. Write a function inside(x,y,x1,y1,x2,y2) that returns True or False depending on whether the point (x,y) lies in the rectangle\n",
    "#with lower left corner (x1,y1) and upper right corner (x2,y2).\n",
    "#>>> inside(1,1,0,0,2,3) True, >>> inside(-1,-1,0,0,2,3) False\n",
    "\n",
    "def inside(x,y,x1,y1,x2,y2):\n",
    "    return x1<=x<=x2 and y1<=y<=y2\n",
    "print(inside(1,1,0,0,2,3))\n",
    "print(inside(-1,-1,0,0,2,3))"
   ]
  },
  {
   "cell_type": "code",
   "execution_count": 22,
   "id": "f9f338c1",
   "metadata": {},
   "outputs": [
    {
     "name": "stdout",
     "output_type": "stream",
     "text": [
      "The point (1, 1) does not lie in both rectangles.\n"
     ]
    }
   ],
   "source": [
    "#Question 5\n",
    "#b.Use function inside() from part a. to write an expression that tests whetherthe point (1,1) lies in both of the following rectangles:\n",
    "#one with lower left corner (0.3, 0.5) and upper right corner (1.1, 0.7) and the other with lowerleft corner (0.5, 0.2) and\n",
    "#upper right corner (1.1, 2).\n",
    "\n",
    "rectangle1 = (0.3, 0.5, 1.1, 0.7)\n",
    "rectangle2 = (0.5, 0.2, 1.1, 2)\n",
    "point_x, point_y = 1, 1\n",
    "is_in_rectangle1 = inside(point_x, point_y, *rectangle1)\n",
    "is_in_rectangle2 = inside(point_x, point_y, *rectangle2)\n",
    "\n",
    "if is_in_rectangle1 and is_in_rectangle2:\n",
    "    print(f\"The point ({point_x}, {point_y}) lies in both rectangles.\")\n",
    "else:\n",
    "    print(f\"The point ({point_x}, {point_y}) does not lie in both rectangles.\")"
   ]
  },
  {
   "cell_type": "code",
   "execution_count": 24,
   "id": "90009d2c",
   "metadata": {},
   "outputs": [
    {
     "name": "stdout",
     "output_type": "stream",
     "text": [
      "yhay\n",
      "enterway\n"
     ]
    }
   ],
   "source": [
    "#Question 6\n",
    "# You can turn a word into pig-Latin using the following two rules (simplified):\n",
    "#• If the word starts with a consonant, move that letter to the end and append'ay'. For example, 'happy' becomes 'appyhay' and 'pencil' becomes 'encilpay'.\n",
    "#• If the word starts with a vowel, simply append 'way' to the end of the word.For example, 'enter' becomes 'enterway' and 'other' becomes 'otherway' . For\n",
    "#our purposes, there are 5 vowels: a, e, i, o, u (so we count y as a consonant). Write a function pig() that takes a word (i.e., a string) as input and returns \n",
    "#its pigLatin form.Your function should still work if the input word contains upper case characters. Your output should always be lower case however. \n",
    "#>>> pig('happy') 'appyhay', >>> pig('Enter') 'enterway' \n",
    "\n",
    "def pig(word):\n",
    "    word=word.lower()\n",
    "    vowels=['a','e','i','o','u']\n",
    "    if word[0] in vowels:\n",
    "        pig_latin_word=word+'way'\n",
    "    else:\n",
    "        pig_latin_word=word[i:]+word[0]+'ay'\n",
    "    return pig_latin_word\n",
    "print(pig('happy'))\n",
    "print(pig('enter'))"
   ]
  },
  {
   "cell_type": "code",
   "execution_count": null,
   "id": "ccd6c914",
   "metadata": {},
   "outputs": [],
   "source": [
    "#Question 7\n",
    "#File bloodtype1.txt records blood-types of patients (A, B, AB, O or OO) at a clinic. Write a function bldcount() that reads the file with \n",
    "#name name and reports (i.e.,prints) how many patients there are in each bloodtype. >>> bldcount('bloodtype.txt')There are 10 patients of\n",
    "#blood type A.,There is one patient of blood type B.There are 10 patients of blood type AB.,There are 12 patients of blood type O.,\n",
    "#There are no patients of blood type OO.\n"
   ]
  },
  {
   "cell_type": "code",
   "execution_count": 51,
   "id": "093019b8",
   "metadata": {},
   "outputs": [
    {
     "ename": "SyntaxError",
     "evalue": "invalid syntax (1115767671.py, line 31)",
     "output_type": "error",
     "traceback": [
      "\u001b[1;36m  Cell \u001b[1;32mIn[51], line 31\u001b[1;36m\u001b[0m\n\u001b[1;33m    except FileNotFoundError:\u001b[0m\n\u001b[1;37m    ^\u001b[0m\n\u001b[1;31mSyntaxError\u001b[0m\u001b[1;31m:\u001b[0m invalid syntax\n"
     ]
    }
   ],
   "source": [
    "#Question 8\n",
    "#Write a function curconv() that takes as input:\n",
    "#1. a currency represented using a string (e.g., 'JPY' for the Japanese Yen or\n",
    "#'EUR' for the Euro), 2. an amount and then converts and returns the amount in US dollars.\n",
    "#>>> curconv('EUR', 100) 122.96544, >>> curconv('JPY', 100) 1.241401\n",
    "#The currency rates you will need are stored in file currencies.txt: AUD 1.0345157 Australian Dollar\n",
    "#CHF 1.0237414 Swiss Franc, CNY 0.1550176 Chinese Yuan\n",
    "#DKK 0.1651442 Danish Krone EUR 1.2296544 Euro\n",
    "#GBP 1.5550989 British Pound HKD 0.1270207 Hong Kong Dollar\n",
    "#INR 0.0177643 Indian Rupee  JPY 0.01241401 Japanese Yen\n",
    "#MXN 0.0751848 Mexican Peso  MYR 0.3145411 Malaysian Ringgit\n",
    "#NOK 0.1677063 Norwegian Krone NZD 0.8003591 New Zealand Dollar\n",
    "#PHP 0.0233234 Philippine Peso SEK 0.148269 Swedish Krona\n",
    "#SGD 0.788871 Singapore Dollar  THB 0.0313789 Thai Baht\n",
    "\n",
    "def curconv(currency, amount):\n",
    "    try:\n",
    "        with open('currencies.txt', 'r') as file:\n",
    "            lines = file.readlines()\n",
    "            exchange_rates = {}\n",
    "            for line in lines:\n",
    "                parts = line.split()\n",
    "                if len(parts) == 3:\n",
    "                    currency_code, exchange_rate, currency_name = parts\n",
    "                    exchange_rates[currency_code] = float(exchange_rate)\n",
    "                if currency in exchange_rates:\n",
    "                          usd_amount = amount * exchange_rates[currency]\n",
    "                return usd_amount\n",
    "            else:\n",
    "                return f\"Currency '{currency}' not found in the exchange rates.\"\n",
    "        except FileNotFoundError:\n",
    "            return \"File 'currencies.txt' not found.\"\n",
    "result1 = curconv('EUR', 100)\n",
    "print(result1)  \n",
    "result2 = curconv('JPY', 100)\n",
    "print(result2) "
   ]
  },
  {
   "cell_type": "code",
   "execution_count": 33,
   "id": "fe36feb5",
   "metadata": {},
   "outputs": [
    {
     "ename": "NameError",
     "evalue": "name 'x' is not defined",
     "output_type": "error",
     "traceback": [
      "\u001b[1;31m---------------------------------------------------------------------------\u001b[0m",
      "\u001b[1;31mNameError\u001b[0m                                 Traceback (most recent call last)",
      "Cell \u001b[1;32mIn[33], line 19\u001b[0m\n\u001b[0;32m     12\u001b[0m a\u001b[38;5;241m=\u001b[39m[\u001b[38;5;241m1\u001b[39m,\u001b[38;5;241m1\u001b[39m,\u001b[38;5;241m1\u001b[39m,\u001b[38;5;241m1\u001b[39m,\u001b[38;5;241m1\u001b[39m,\u001b[38;5;241m1\u001b[39m,\u001b[38;5;241m1\u001b[39m,\u001b[38;5;241m1\u001b[39m,\u001b[38;5;241m1\u001b[39m,\u001b[38;5;241m1\u001b[39m]\n\u001b[0;32m     13\u001b[0m \u001b[38;5;66;03m#for i in a:\u001b[39;00m\n\u001b[0;32m     14\u001b[0m \u001b[38;5;66;03m#print(a[11])\u001b[39;00m\n\u001b[0;32m     15\u001b[0m \u001b[38;5;66;03m#'IndexError', list index out of range\u001b[39;00m\n\u001b[0;32m     16\u001b[0m \u001b[38;5;66;03m#s=math.sqrt(-1,0)\u001b[39;00m\n\u001b[0;32m     17\u001b[0m \u001b[38;5;66;03m#print(s)\u001b[39;00m\n\u001b[0;32m     18\u001b[0m \u001b[38;5;66;03m# TypeError: math.sqrt() takes exactly one argument (2 given)\u001b[39;00m\n\u001b[1;32m---> 19\u001b[0m \u001b[38;5;28mprint\u001b[39m(x)\n",
      "\u001b[1;31mNameError\u001b[0m: name 'x' is not defined"
     ]
    }
   ],
   "source": [
    "#Question 9\n",
    "#Each of the following will cause an exception (an error). Identify what type ofexception each will cause.\n",
    "#Trying to add incompatible variables, as in adding 6 + ‘a’\n",
    "#Referring to the 12th item of a list that has only 10 items\n",
    "#Using a value that is out of range for a function’sinput, such as calling math.sqrt(-1.0)\n",
    "#Using an undeclared variable, such as print(x) when x has not been defined\n",
    "#Trying to open a file that does not exist, such as mistyping the file name or looking in the wrongdirectory.\n",
    "\n",
    "sum=6+'a'\n",
    "print(sum)\n",
    "# 'TypeError',integer can not be added to string, incompatible variables\n",
    "a=[1,1,1,1,1,1,1,1,1,1]\n",
    "#for i in a:\n",
    "print(a[11])\n",
    "#'IndexError', list index out of range\n",
    "s=math.sqrt(-1,0)\n",
    "print(s)\n",
    "# TypeError: math.sqrt() takes exactly one argument (2 given)\n",
    "print(x)\n",
    "#NameError: name 'x' is not defined\n",
    "# FileNOtFoundError"
   ]
  },
  {
   "cell_type": "code",
   "execution_count": 48,
   "id": "9d02a169",
   "metadata": {},
   "outputs": [
    {
     "name": "stdout",
     "output_type": "stream",
     "text": [
      "[1, 1, 1, 3, 5, 1, 1, 2, 1, 0, 1, 0, 1, 2, 4, 0, 1, 2, 0, 3, 1, 0, 1, 1, 0, 0]\n",
      "[1, 0, 0, 0, 1, 0, 0, 0, 0, 0, 0, 1, 0, 0, 0, 2, 0, 0, 0, 0, 0, 0, 0, 0, 0, 0]\n"
     ]
    }
   ],
   "source": [
    "#Question 10\n",
    "#Encryption is the process of hiding the meaning of a text by substituting letters in themessage with other letters, according to some system. If the process is successful, \n",
    "#no one but the intended recipient can understand the encrypted message. Cryptanalysisrefers to attempts to undo the encryption, even if some details of the encryption are\n",
    "#unknown (for example, if an encrypted message has been intercepted). The first stepof cryptanalysis is often to build up a table of letter frequencies in the encrypted text.\n",
    "#Assume that the string letters is already defined as'abcdefghijklmnopqrstuvwxyz'. Write a function called frequencies()that takes a string as its only parameter, and returns \n",
    "#a list of integers, showing the number of times each character appears in the text. Your function may ignore anycharacters that are not in letters.\n",
    "#>>> frequencies('The quick red fox got bored and went home.')\n",
    "#[1, 1, 1, 3, 5, 1, 1, 2, 1, 0, 1, 0, 1, 2, 4, 0, 1, 2, 0, 2, 1, 0, 1, 1, 0, 0]>>> frequencies('apple')\n",
    "\n",
    "def frequencies(text):\n",
    "    letters = 'abcdefghijklmnopqrstuvwxyz'\n",
    "    char_frequencies = [0] * 26  # Initialize with zeros for each letter\n",
    "    text = text.lower()   \n",
    "    for char in text:\n",
    "       if char in letters:\n",
    "           index = letters.index(char)\n",
    "           char_frequencies[index] += 1\n",
    "    return char_frequencies\n",
    "result1 = frequencies('The quick red fox got bored and went home.')\n",
    "print(result1)\n",
    "\n",
    "result2 = frequencies('apple')\n",
    "print(result2)"
   ]
  },
  {
   "cell_type": "code",
   "execution_count": null,
   "id": "74bccb5e",
   "metadata": {},
   "outputs": [],
   "source": []
  }
 ],
 "metadata": {
  "kernelspec": {
   "display_name": "Python 3 (ipykernel)",
   "language": "python",
   "name": "python3"
  },
  "language_info": {
   "codemirror_mode": {
    "name": "ipython",
    "version": 3
   },
   "file_extension": ".py",
   "mimetype": "text/x-python",
   "name": "python",
   "nbconvert_exporter": "python",
   "pygments_lexer": "ipython3",
   "version": "3.11.4"
  }
 },
 "nbformat": 4,
 "nbformat_minor": 5
}
